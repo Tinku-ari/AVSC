{
 "metadata": {
  "name": ""
 },
 "nbformat": 3,
 "nbformat_minor": 0,
 "worksheets": [
  {
   "cells": [
    {
     "cell_type": "heading",
     "level": 1,
     "metadata": {
      "slideshow": {
       "slide_type": "slide"
      }
     },
     "source": [
      "Story"
     ]
    },
    {
     "cell_type": "raw",
     "metadata": {},
     "source": [
      "One by one feature correlation with Repeater"
     ]
    },
    {
     "cell_type": "heading",
     "level": 3,
     "metadata": {},
     "source": [
      "Ranking important features using entropy as a metric"
     ]
    },
    {
     "cell_type": "raw",
     "metadata": {},
     "source": [
      "We use the information entropy to rank the features.\n",
      "Features are\n",
      "['id' 'chain' 'offer' 'market' 'repeattrips' 'repeater' 'offerdate'\n",
      " 'category' 'quantity' 'company' 'offervalue' 'brand']\n",
      "\n",
      "The categorical features are category, company, brand, chain\n",
      "The continuous features are repeattrips, offervalue and offerdate\n",
      "Each feature(categorical or continuous) have several entries\n",
      "Number of unique entries in chain, category, company, brand are 130, 13, 11 and 12.\n",
      "24 unique offers"
     ]
    },
    {
     "cell_type": "heading",
     "level": 3,
     "metadata": {},
     "source": [
      "Information Entropy"
     ]
    },
    {
     "cell_type": "raw",
     "metadata": {},
     "source": [
      "P= probability that repeater=true for each unique entry in a feature, then\n",
      "Entropy of that entry= -P_i X log (P_i)\n",
      "average entropy= -<PlogP>\n",
      "also, define normalised entropy=average entropy/number of unique entries"
     ]
    },
    {
     "cell_type": "heading",
     "level": 3,
     "metadata": {},
     "source": [
      "Results:"
     ]
    },
    {
     "cell_type": "raw",
     "metadata": {},
     "source": [
      "feature |avg. entropy |normalized entropy|\n",
      "-------------------------------------------\n",
      "chain    |1.35        |0.0104            |\n",
      "company  |0.92        |0.084             |\n",
      "brand    |0.94        |0.078             |\n",
      "category |0.91        |0.070             |\n",
      "------------------------------------------\n",
      "repeattrips|0.93      |0.017             |\n",
      "offervalue |0.74      |0.123             |\n",
      "offerdate  |1.32      |0.023             |"
     ]
    },
    {
     "cell_type": "code",
     "collapsed": false,
     "input": [],
     "language": "python",
     "metadata": {},
     "outputs": []
    },
    {
     "cell_type": "code",
     "collapsed": false,
     "input": [
      "%matplotlib inline\n",
      "import matplotlib.pyplot as plt\n",
      "import numpy as np\n",
      "\n",
      "list_feature=['chain','company', 'brand','category', 'repeattrips','offervalue','offerdate']\n",
      "avg_U=[1.35,0.92,0.94,0.91,0.93,0.74,1.32]\n",
      "norm_U=[0.0104,0.084,0.078,0.07,0.017,0.123,0.023]\n",
      "x_pos = np.arange(len(list_feature))+1\n",
      "plt.xticks(x_pos, list_feature)\n",
      "plt.plot(x_pos,avg_U,'o--',label=\"average entropy\")\n",
      "plt.plot(x_pos,norm_U,'ro--',label=\"norm. entropy\")\n",
      "plt.yscale('log')\n",
      "plt.ylim(1e-2,3.0)\n",
      "plt.ylabel('entropy')\n",
      "#plt.ylabel('U=$\\Sigma_i P_i log(P_i)$')\n",
      "plt.legend(loc='center left')"
     ],
     "language": "python",
     "metadata": {},
     "outputs": [
      {
       "metadata": {},
       "output_type": "pyout",
       "prompt_number": 6,
       "text": [
        "<matplotlib.legend.Legend at 0x1066f3990>"
       ]
      },
      {
       "metadata": {},
       "output_type": "display_data",
       "png": "[encoded data removed]",
       "text": [
        "<matplotlib.figure.Figure at 0x106655750>"
       ]
      }
     ],
     "prompt_number": 6
    }
   ],
   "metadata": {}
  }
 ]
}