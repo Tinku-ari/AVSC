{
 "metadata": {
  "name": ""
 },
 "nbformat": 3,
 "nbformat_minor": 0,
 "worksheets": [
  {
   "cells": [
    {
     "cell_type": "code",
     "collapsed": false,
     "input": [
      "import pandas as pd\n",
      "import time\n",
      "import numpy as np\n",
      "import sys\n",
      "\n",
      "data_dir='data/'\n",
      "\n",
      "file_name='trainHistory.csv'\n",
      "file_to_open=data_dir+file_name\n",
      "train_history=pd.read_csv(file_to_open)\n",
      "#print train_history[:1]\n",
      "\n",
      "file_name='offers.csv'\n",
      "file_to_open=data_dir+file_name\n",
      "offers=pd.read_csv(file_to_open)\n",
      " \n",
      "joined_data= pd.merge(train_history, offers, left_on='offer', right_on='offer', how='inner')\n",
      "#print joined_data.shape\n",
      "#print joined_data[:1]\n",
      "joined_data.to_csv('hist_offers.csv')"
     ],
     "language": "python",
     "metadata": {},
     "outputs": [],
     "prompt_number": 1
    },
    {
     "cell_type": "code",
     "collapsed": false,
     "input": [
      "from collections import defaultdict\n",
      "import time\n",
      "productsize, purchasequantity, purchaseamount=defaultdict(float), defaultdict(int), defaultdict(float)\n",
      "ct=0\n",
      "t_i=time.time()\n",
      "with open('data/reduced.csv') as infile:\n",
      "   next(infile) \n",
      "   for line in infile:\n",
      "        entries=line.split(',')\n",
      "        productsize[(entries[0],entries[3])]+=float(entries[7])\n",
      "        purchasequantity[(entries[0],entries[3])]+=int(entries[9])\n",
      "        purchaseamount[(entries[0],entries[3])]+= float(entries[10])        \n",
      "        ct+=1\n",
      "print time.time()-t_i        "
     ],
     "language": "python",
     "metadata": {},
     "outputs": [
      {
       "output_type": "stream",
       "stream": "stdout",
       "text": [
        "127.321410894\n"
       ]
      }
     ],
     "prompt_number": 2
    },
    {
     "cell_type": "code",
     "collapsed": false,
     "input": [
      "ct=0\n",
      "import csv\n",
      "with open('transactions-aggr.csv','w') as f:\n",
      "  write=csv.writer(f,delimiter=',')  \n",
      "  for key, value in productsize.items():\n",
      "    #print key[0],key[1],value,purchasequantity[key],purchaseamount[key]\n",
      "    write.writerow([key[0],key[1],value,purchasequantity[key],purchaseamount[key]])\n",
      "    ct+=1\n",
      "    if ct%1000000==0: print ct"
     ],
     "language": "python",
     "metadata": {},
     "outputs": [
      {
       "output_type": "stream",
       "stream": "stdout",
       "text": [
        "1000000\n",
        "2000000"
       ]
      },
      {
       "output_type": "stream",
       "stream": "stdout",
       "text": [
        "\n",
        "3000000"
       ]
      },
      {
       "output_type": "stream",
       "stream": "stdout",
       "text": [
        "\n",
        "4000000"
       ]
      },
      {
       "output_type": "stream",
       "stream": "stdout",
       "text": [
        "\n",
        "5000000"
       ]
      },
      {
       "output_type": "stream",
       "stream": "stdout",
       "text": [
        "\n",
        "6000000"
       ]
      },
      {
       "output_type": "stream",
       "stream": "stdout",
       "text": [
        "\n"
       ]
      }
     ],
     "prompt_number": 3
    },
    {
     "cell_type": "code",
     "collapsed": false,
     "input": [
      "print len(productsize)"
     ],
     "language": "python",
     "metadata": {},
     "outputs": [
      {
       "output_type": "stream",
       "stream": "stdout",
       "text": [
        "6097178\n"
       ]
      }
     ],
     "prompt_number": 12
    },
    {
     "cell_type": "code",
     "collapsed": false,
     "input": [
      "import pandas as pd\n",
      "data=pd.read_csv('data/reduced.csv')"
     ],
     "language": "python",
     "metadata": {},
     "outputs": [],
     "prompt_number": 7
    },
    {
     "cell_type": "code",
     "collapsed": false,
     "input": [
      "print set(data['productmeasure'])"
     ],
     "language": "python",
     "metadata": {},
     "outputs": [
      {
       "output_type": "stream",
       "stream": "stdout",
       "text": [
        "set(['LB', 'YD', 'LT', 'OZ', 'RL', 'CT'])\n"
       ]
      }
     ],
     "prompt_number": 8
    },
    {
     "cell_type": "code",
     "collapsed": false,
     "input": [],
     "language": "python",
     "metadata": {},
     "outputs": []
    }
   ],
   "metadata": {}
  }
 ]
}