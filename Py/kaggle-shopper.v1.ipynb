{
 "metadata": {
  "name": ""
 },
 "nbformat": 3,
 "nbformat_minor": 0,
 "worksheets": [
  {
   "cells": [
    {
     "cell_type": "heading",
     "level": 4,
     "metadata": {},
     "source": [
      "this code combines trainHistory+offers on offer"
     ]
    },
    {
     "cell_type": "code",
     "collapsed": false,
     "input": [
      "import pandas as pd\n",
      "import time\n",
      "import numpy as np\n",
      "import sys\n",
      "\n",
      "data_dir='data/'\n",
      "\n",
      "file_name='trainHistory.csv'\n",
      "file_to_open=data_dir+file_name\n",
      "train_history=pd.read_csv(file_to_open)\n",
      "#print train_history[:1]\n",
      "\n",
      "file_name='offers.csv'\n",
      "file_to_open=data_dir+file_name\n",
      "offers=pd.read_csv(file_to_open)\n",
      " \n",
      "joined_data= pd.merge(train_history, offers, left_on='offer', right_on='offer', how='inner')\n",
      "#print joined_data.shape\n",
      "#print joined_data[:1]\n",
      "joined_data.to_csv('hist_offers.csv')"
     ],
     "language": "python",
     "metadata": {},
     "outputs": [],
     "prompt_number": 2
    },
    {
     "cell_type": "heading",
     "level": 4,
     "metadata": {},
     "source": [
      "this code reads in transactions data, print out the rows that has matching category with offers.csv"
     ]
    },
    {
     "cell_type": "code",
     "collapsed": false,
     "input": [
      "import time\n",
      "offers_cat = {}\n",
      "for e, line in enumerate( open('data/offers.csv') ):\n",
      "    offers_cat[ line.split(\",\")[1] ] = 1\n",
      "print offers_cat\n",
      "t_i=time.time()\n",
      "with open('reduced.csv', \"wb\") as outfile:\n",
      "  [outfile.write(line) for e,line in enumerate(open('data/transactions.csv'))\\\n",
      "    if line.split(\",\")[3] in offers_cat]\n",
      "print time.time()-t_i                "
     ],
     "language": "python",
     "metadata": {},
     "outputs": [
      {
       "output_type": "stream",
       "stream": "stdout",
       "text": [
        "{'category': 1, '3509': 1, '2202': 1, '1703': 1, '3203': 1, '5824': 1, '2119': 1, '1726': 1, '3504': 1, '706': 1, '9115': 1, '4401': 1, '799': 1, '9909': 1, '5616': 1, '5619': 1, '7205': 1, '6202': 1, '4517': 1, '5558': 1, '5122': 1}\n",
        "355.515788078"
       ]
      },
      {
       "output_type": "stream",
       "stream": "stdout",
       "text": [
        "\n"
       ]
      }
     ],
     "prompt_number": 44
    },
    {
     "cell_type": "heading",
     "level": 4,
     "metadata": {},
     "source": [
      "this code read reduced.csv (obtained from transactions file by keeping the rows whose category exists in offers.csv), create dictionaries which sum over productsize, purchasequantity and purchaseamount for each [customer,category] pair"
     ]
    },
    {
     "cell_type": "code",
     "collapsed": false,
     "input": [
      "from collections import defaultdict\n",
      "import time\n",
      "productsize, purchasequantity, purchaseamount=defaultdict(float), defaultdict(int), defaultdict(float)\n",
      "ct=0\n",
      "t_i=time.time()\n",
      "with open('data/reduced.csv') as infile:\n",
      "   next(infile) \n",
      "   for line in infile:\n",
      "        entries=line.split(',')\n",
      "        productsize[(entries[0],entries[3])]+=float(entries[7])\n",
      "        purchasequantity[(entries[0],entries[3])]+=int(entries[9])\n",
      "        purchaseamount[(entries[0],entries[3])]+= float(entries[10])        \n",
      "        ct+=1\n",
      "print time.time()-t_i        "
     ],
     "language": "python",
     "metadata": {},
     "outputs": [
      {
       "output_type": "stream",
       "stream": "stdout",
       "text": [
        "65.8032939434\n"
       ]
      }
     ],
     "prompt_number": 23
    },
    {
     "cell_type": "heading",
     "level": 4,
     "metadata": {},
     "source": [
      "this code writes the above dictionaries key, value pair to csv file"
     ]
    },
    {
     "cell_type": "code",
     "collapsed": false,
     "input": [
      "ct=0\n",
      "import csv\n",
      "with open('transactions-aggr.csv','w') as f:\n",
      "  write=csv.writer(f,delimiter=',')  \n",
      "  for key, value in productsize.items():\n",
      "    #print key[0],key[1],value,purchasequantity[key],purchaseamount[key]\n",
      "    write.writerow([key[0],key[1],value,purchasequantity[key],purchaseamount[key]])\n",
      "    ct+=1\n",
      "    if ct%1000000==0: print ct"
     ],
     "language": "python",
     "metadata": {},
     "outputs": [
      {
       "output_type": "stream",
       "stream": "stdout",
       "text": [
        "1000000\n",
        "2000000"
       ]
      },
      {
       "output_type": "stream",
       "stream": "stdout",
       "text": [
        "\n"
       ]
      }
     ],
     "prompt_number": 26
    },
    {
     "cell_type": "heading",
     "level": 4,
     "metadata": {},
     "source": [
      "this code reads in the above transactions-aggr file and join with joined_data above on [customer id,category]"
     ]
    },
    {
     "cell_type": "code",
     "collapsed": false,
     "input": [
      "trans_aggr=pd.read_csv('data/transactions-aggr.csv')\n",
      "print trans_aggr[:1]\n",
      "hist_offers_transaggr= pd.merge(joined_data, trans_aggr, left_on=['id','category'],\\\n",
      "                                right_on=['id','category'], how='left')\n",
      "hist_offers_transaggr.to_csv('hist_offers_transaggr.csv')"
     ],
     "language": "python",
     "metadata": {},
     "outputs": [
      {
       "output_type": "stream",
       "stream": "stdout",
       "text": [
        "           id  category  productsize  purchasequantity  purchaseamount\n",
        "0  4618364952      6202           20                 1            6.49\n",
        "\n",
        "[1 rows x 5 columns]\n"
       ]
      }
     ],
     "prompt_number": 25
    },
    {
     "cell_type": "heading",
     "level": 4,
     "metadata": {},
     "source": [
      "some random print, may ignore"
     ]
    },
    {
     "cell_type": "code",
     "collapsed": false,
     "input": [
      "offers_cat = {}\n",
      "offers_catl=[]\n",
      "for e, line in enumerate( open('data/offers.csv') ):\n",
      "    offers_cat[ line.split(\",\")[1] ] = 1\n",
      "    offers_catl.append(line.split(\",\")[1])\n",
      "print offers_cat,offers_catl  \n",
      "ct=0\n",
      "ti=time.time()\n",
      "for e, line in enumerate( open('data/transactions.csv') ):\n",
      "    if line.split(\",\")[3] in offers_cat:\n",
      "        ct+=1\n",
      "        if ct>1000000: break\n",
      "print time.time()-ti , ct\n",
      "ct=0\n",
      "ti=time.time()\n",
      "for e, line in enumerate( open('data/transactions.csv') ):\n",
      "    if line.split(\",\")[3] in offers_catl:\n",
      "        ct+=1\n",
      "        if ct>1000000: break\n",
      "print time.time()-ti , ct"
     ],
     "language": "python",
     "metadata": {},
     "outputs": [
      {
       "output_type": "stream",
       "stream": "stdout",
       "text": [
        "{'category': 1, '3509': 1, '2202': 1, '1703': 1, '3203': 1, '5824': 1, '2119': 1, '1726': 1, '3504': 1, '706': 1, '9115': 1, '4401': 1, '799': 1, '9909': 1, '5616': 1, '5619': 1, '7205': 1, '6202': 1, '4517': 1, '5558': 1, '5122': 1} ['category', '9115', '9909', '3203', '5558', '5558', '5558', '5558', '5558', '4401', '4401', '1703', '1703', '1726', '1726', '3504', '3509', '9909', '5122', '5616', '5619', '5619', '2202', '2202', '2119', '6202', '6202', '5824', '799', '799', '4517', '4517', '7205', '7205', '7205', '7205', '7205', '706']\n",
        "17.3233420849"
       ]
      },
      {
       "output_type": "stream",
       "stream": "stdout",
       "text": [
        " 1000001\n",
        "26.0960030556"
       ]
      },
      {
       "output_type": "stream",
       "stream": "stdout",
       "text": [
        " 1000001\n"
       ]
      }
     ],
     "prompt_number": 36
    },
    {
     "cell_type": "code",
     "collapsed": false,
     "input": [
      "print len(productsize)"
     ],
     "language": "python",
     "metadata": {},
     "outputs": [
      {
       "output_type": "stream",
       "stream": "stdout",
       "text": [
        "6097178\n"
       ]
      }
     ],
     "prompt_number": 12
    },
    {
     "cell_type": "code",
     "collapsed": false,
     "input": [
      "import pandas as pd\n",
      "data=pd.read_csv('data/reduced.csv')"
     ],
     "language": "python",
     "metadata": {},
     "outputs": [],
     "prompt_number": 7
    },
    {
     "cell_type": "code",
     "collapsed": false,
     "input": [
      "print set(data['productmeasure'])"
     ],
     "language": "python",
     "metadata": {},
     "outputs": [
      {
       "output_type": "stream",
       "stream": "stdout",
       "text": [
        "set(['LB', 'YD', 'LT', 'OZ', 'RL', 'CT'])\n"
       ]
      }
     ],
     "prompt_number": 8
    },
    {
     "cell_type": "code",
     "collapsed": false,
     "input": [
      "print trans_aggr.id[0]"
     ],
     "language": "python",
     "metadata": {},
     "outputs": [
      {
       "output_type": "stream",
       "stream": "stdout",
       "text": [
        "4618364952\n"
       ]
      }
     ],
     "prompt_number": 7
    },
    {
     "cell_type": "code",
     "collapsed": false,
     "input": [
      "print hist_offers_transaggr.shape, joined_data.shape"
     ],
     "language": "python",
     "metadata": {},
     "outputs": [
      {
       "output_type": "stream",
       "stream": "stdout",
       "text": [
        "(160057, 15) (160057, 12)\n"
       ]
      }
     ],
     "prompt_number": 20
    },
    {
     "cell_type": "code",
     "collapsed": false,
     "input": [
      "ct=0\n",
      "for x,y in zip(trans_aggr.id, trans_aggr.category):\n",
      "    for x1,y1 in zip(joined_data.id,joined_data.category):\n",
      "        if x==x1 and y==y1:\n",
      "          print ct\n",
      "          ct+=1  \n",
      "          if ct >10: break"
     ],
     "language": "python",
     "metadata": {},
     "outputs": [
      {
       "output_type": "stream",
       "stream": "stdout",
       "text": [
        "0\n",
        "1"
       ]
      },
      {
       "output_type": "stream",
       "stream": "stdout",
       "text": [
        "\n",
        "2"
       ]
      },
      {
       "output_type": "stream",
       "stream": "stdout",
       "text": [
        "\n",
        "3"
       ]
      },
      {
       "output_type": "stream",
       "stream": "stdout",
       "text": [
        "\n",
        "4"
       ]
      },
      {
       "output_type": "stream",
       "stream": "stdout",
       "text": [
        "\n",
        "5"
       ]
      },
      {
       "output_type": "stream",
       "stream": "stdout",
       "text": [
        "\n",
        "6"
       ]
      },
      {
       "output_type": "stream",
       "stream": "stdout",
       "text": [
        "\n",
        "7"
       ]
      },
      {
       "output_type": "stream",
       "stream": "stdout",
       "text": [
        "\n",
        "8"
       ]
      },
      {
       "output_type": "stream",
       "stream": "stdout",
       "text": [
        "\n",
        "9"
       ]
      },
      {
       "output_type": "stream",
       "stream": "stdout",
       "text": [
        "\n",
        "10"
       ]
      },
      {
       "output_type": "stream",
       "stream": "stdout",
       "text": [
        "\n",
        "11"
       ]
      },
      {
       "output_type": "stream",
       "stream": "stdout",
       "text": [
        "\n",
        "12"
       ]
      },
      {
       "output_type": "stream",
       "stream": "stdout",
       "text": [
        "\n",
        "13"
       ]
      },
      {
       "ename": "KeyboardInterrupt",
       "evalue": "",
       "output_type": "pyerr",
       "traceback": [
        "\u001b[0;31m---------------------------------------------------------------------------\u001b[0m\n\u001b[0;31mKeyboardInterrupt\u001b[0m                         Traceback (most recent call last)",
        "\u001b[0;32m<ipython-input-12-59e9361c5055>\u001b[0m in \u001b[0;36m<module>\u001b[0;34m()\u001b[0m\n\u001b[1;32m      1\u001b[0m \u001b[0mct\u001b[0m\u001b[0;34m=\u001b[0m\u001b[0;36m0\u001b[0m\u001b[0;34m\u001b[0m\u001b[0m\n\u001b[1;32m      2\u001b[0m \u001b[0;32mfor\u001b[0m \u001b[0mx\u001b[0m\u001b[0;34m,\u001b[0m\u001b[0my\u001b[0m \u001b[0;32min\u001b[0m \u001b[0mzip\u001b[0m\u001b[0;34m(\u001b[0m\u001b[0mtrans_aggr\u001b[0m\u001b[0;34m.\u001b[0m\u001b[0mid\u001b[0m\u001b[0;34m,\u001b[0m \u001b[0mtrans_aggr\u001b[0m\u001b[0;34m.\u001b[0m\u001b[0mcategory\u001b[0m\u001b[0;34m)\u001b[0m\u001b[0;34m:\u001b[0m\u001b[0;34m\u001b[0m\u001b[0m\n\u001b[0;32m----> 3\u001b[0;31m     \u001b[0;32mfor\u001b[0m \u001b[0mx1\u001b[0m\u001b[0;34m,\u001b[0m\u001b[0my1\u001b[0m \u001b[0;32min\u001b[0m \u001b[0mzip\u001b[0m\u001b[0;34m(\u001b[0m\u001b[0mjoined_data\u001b[0m\u001b[0;34m.\u001b[0m\u001b[0mid\u001b[0m\u001b[0;34m,\u001b[0m\u001b[0mjoined_data\u001b[0m\u001b[0;34m.\u001b[0m\u001b[0mcategory\u001b[0m\u001b[0;34m)\u001b[0m\u001b[0;34m:\u001b[0m\u001b[0;34m\u001b[0m\u001b[0m\n\u001b[0m\u001b[1;32m      4\u001b[0m         \u001b[0;32mif\u001b[0m \u001b[0mx\u001b[0m\u001b[0;34m==\u001b[0m\u001b[0mx1\u001b[0m \u001b[0;32mand\u001b[0m \u001b[0my\u001b[0m\u001b[0;34m==\u001b[0m\u001b[0my1\u001b[0m\u001b[0;34m:\u001b[0m\u001b[0;34m\u001b[0m\u001b[0m\n\u001b[1;32m      5\u001b[0m           \u001b[0;32mprint\u001b[0m \u001b[0mct\u001b[0m\u001b[0;34m\u001b[0m\u001b[0m\n",
        "\u001b[0;31mKeyboardInterrupt\u001b[0m: "
       ]
      },
      {
       "output_type": "stream",
       "stream": "stdout",
       "text": [
        "\n"
       ]
      }
     ],
     "prompt_number": 12
    }
   ],
   "metadata": {}
  }
 ]
}