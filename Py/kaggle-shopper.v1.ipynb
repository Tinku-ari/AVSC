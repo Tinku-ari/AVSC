{
 "metadata": {
  "name": ""
 },
 "nbformat": 3,
 "nbformat_minor": 0,
 "worksheets": [
  {
   "cells": [
    {
     "cell_type": "heading",
     "level": 4,
     "metadata": {},
     "source": [
      "this code combines trainHistory+offers on offer"
     ]
    },
    {
     "cell_type": "code",
     "collapsed": false,
     "input": [
      "import pandas as pd\n",
      "import time\n",
      "import numpy as np\n",
      "import sys\n",
      "\n",
      "data_dir='data/'\n",
      "\n",
      "file_name='trainHistory.csv'\n",
      "file_to_open=data_dir+file_name\n",
      "train_history=pd.read_csv(file_to_open)\n",
      "#print train_history[:1]\n",
      "\n",
      "file_name='offers.csv'\n",
      "file_to_open=data_dir+file_name\n",
      "offers=pd.read_csv(file_to_open)\n",
      " \n",
      "joined_data= pd.merge(train_history, offers, left_on='offer', right_on='offer', how='inner')\n",
      "#print joined_data.shape\n",
      "#print joined_data[:1]\n",
      "joined_data.to_csv('hist_offers.csv')"
     ],
     "language": "python",
     "metadata": {},
     "outputs": [],
     "prompt_number": 47
    },
    {
     "cell_type": "heading",
     "level": 4,
     "metadata": {},
     "source": [
      "this code reads in transactions data, print out the rows that has matching category with offers.csv"
     ]
    },
    {
     "cell_type": "code",
     "collapsed": false,
     "input": [
      "import time\n",
      "offers_cat = {}\n",
      "for e, line in enumerate( open('data/offers.csv') ):\n",
      "    offers_cat[ line.split(\",\")[1] ] = 1\n",
      "print offers_cat\n",
      "t_i=time.time()\n",
      "with open('reduced.csv', \"wb\") as outfile:\n",
      "  [outfile.write(line) for e,line in enumerate(open('data/transactions.csv'))\\\n",
      "    if line.split(\",\")[3] in offers_cat]\n",
      "print time.time()-t_i                "
     ],
     "language": "python",
     "metadata": {},
     "outputs": [
      {
       "output_type": "stream",
       "stream": "stdout",
       "text": [
        "{'category': 1, '3509': 1, '2202': 1, '1703': 1, '3203': 1, '5824': 1, '2119': 1, '1726': 1, '3504': 1, '706': 1, '9115': 1, '4401': 1, '799': 1, '9909': 1, '5616': 1, '5619': 1, '7205': 1, '6202': 1, '4517': 1, '5558': 1, '5122': 1}\n",
        "355.515788078"
       ]
      },
      {
       "output_type": "stream",
       "stream": "stdout",
       "text": [
        "\n"
       ]
      }
     ],
     "prompt_number": 44
    },
    {
     "cell_type": "heading",
     "level": 4,
     "metadata": {},
     "source": [
      "this code read reduced.csv (obtained from transactions file by keeping the rows whose category exists in offers.csv), create dictionaries which sum over productsize, purchasequantity and purchaseamount for each [customer,category] pair"
     ]
    },
    {
     "cell_type": "code",
     "collapsed": false,
     "input": [
      "from collections import defaultdict\n",
      "import time\n",
      "productsize, purchasequantity, purchaseamount=defaultdict(float), defaultdict(int), defaultdict(float)\n",
      "ct=0\n",
      "t_i=time.time()\n",
      "with open('data/reduced.csv') as infile:\n",
      "   next(infile) \n",
      "   for line in infile:\n",
      "        entries=line.split(',')\n",
      "        productsize[(entries[0],entries[3])]+=float(entries[7])\n",
      "        purchasequantity[(entries[0],entries[3])]+=int(entries[9])\n",
      "        purchaseamount[(entries[0],entries[3])]+= float(entries[10])        \n",
      "        ct+=1\n",
      "print time.time()-t_i        "
     ],
     "language": "python",
     "metadata": {},
     "outputs": [
      {
       "output_type": "stream",
       "stream": "stdout",
       "text": [
        "65.8032939434\n"
       ]
      }
     ],
     "prompt_number": 23
    },
    {
     "cell_type": "heading",
     "level": 4,
     "metadata": {},
     "source": [
      "this code writes the above dictionaries key, value pair to csv file"
     ]
    },
    {
     "cell_type": "code",
     "collapsed": false,
     "input": [
      "ct=0\n",
      "import csv\n",
      "with open('transactions-aggr.csv','w') as f:\n",
      "  write=csv.writer(f,delimiter=',')  \n",
      "  for key, value in productsize.items():\n",
      "    #print key[0],key[1],value,purchasequantity[key],purchaseamount[key]\n",
      "    write.writerow([key[0],key[1],value,purchasequantity[key],purchaseamount[key]])\n",
      "    ct+=1\n",
      "    if ct%1000000==0: print ct"
     ],
     "language": "python",
     "metadata": {},
     "outputs": [
      {
       "output_type": "stream",
       "stream": "stdout",
       "text": [
        "1000000\n",
        "2000000"
       ]
      },
      {
       "output_type": "stream",
       "stream": "stdout",
       "text": [
        "\n"
       ]
      }
     ],
     "prompt_number": 26
    },
    {
     "cell_type": "heading",
     "level": 4,
     "metadata": {},
     "source": [
      "this code reads in the above transactions-aggr file and join with joined_data above on [customer id,category]"
     ]
    },
    {
     "cell_type": "code",
     "collapsed": false,
     "input": [
      "trans_aggr=pd.read_csv('data/transactions-aggr.csv')\n",
      "print trans_aggr[:1]\n",
      "hist_offers_transaggr= pd.merge(joined_data, trans_aggr, left_on=['id','category'],\\\n",
      "                                right_on=['id','category'], how='left')\n",
      "hist_offers_transaggr.to_csv('hist_offers_transaggr.csv')"
     ],
     "language": "python",
     "metadata": {},
     "outputs": [
      {
       "output_type": "stream",
       "stream": "stdout",
       "text": [
        "           id  category  productsize  purchasequantity  purchaseamount\n",
        "0  4618364952      6202           20                 1            6.49\n",
        "\n",
        "[1 rows x 5 columns]\n"
       ]
      }
     ],
     "prompt_number": 46
    },
    {
     "cell_type": "heading",
     "level": 2,
     "metadata": {},
     "source": [
      "-----------------------------------\n",
      "Evaluation of Models\n",
      "-----------------------------------"
     ]
    },
    {
     "cell_type": "code",
     "collapsed": false,
     "input": [
      "import pandas as pd\n",
      "import numpy as np\n",
      "\n",
      "data=pd.read_csv(\"hist_offers_transaggr.csv\")\n",
      "del data['index'] #redundant\n",
      "del data['quantity']  # only 1 unique val, so useless\n",
      "data['productsize_q']=data['productsize']/data['purchasequantity']\n",
      "data['purchaseamount_q']=data['purchaseamount']/data['purchasequantity']\n",
      "data.replace(to_replace=[np.nan,np.inf,-np.inf],value=[0,0,0],inplace=True) \n",
      "data.replace(to_replace=['t','f'],value=[1,0],inplace=True)\n",
      "del data['productsize']\n",
      "del data['purchaseamount']\n",
      "del data['id']\n",
      "print data.shape\n",
      "column_names=list(data.columns.values)\n",
      "print column_names\n",
      "for column_name in column_names[:10]:\n",
      "    print column_name,len(set(data[column_name])),list(set(data[column_name]))[0:3] \n",
      "\n",
      "\"\"\"\n",
      "# convert to percentile\n",
      "for column_name in column_names[10:]:\n",
      "   #print list(set(data[column_name]))[:4] \n",
      "   #print data[column_name].min(),data[column_name].max(),data[column_name].mean()\\\n",
      "#,data[column_name].median(), data[column_name].std() \n",
      "   data[column_name]= pd.qcut(data[column_name], 4)\n",
      "   print set(data[column_name])\n",
      "\"\"\"   "
     ],
     "language": "python",
     "metadata": {},
     "outputs": [
      {
       "output_type": "stream",
       "stream": "stdout",
       "text": [
        "(160057, 13)\n",
        "['chain', 'offer', 'market', 'repeattrips', 'repeater', 'offerdate', 'category', 'company', 'offervalue', 'brand', 'purchasequantity', 'productsize_q', 'purchaseamount_q']\n",
        "chain 130 "
       ]
      },
      {
       "output_type": "stream",
       "stream": "stdout",
       "text": [
        "[2, 3, 4]\n",
        "offer 24 "
       ]
      },
      {
       "output_type": "stream",
       "stream": "stdout",
       "text": [
        "[1208329, 1200578, 1200579]\n",
        "market 34 "
       ]
      },
      {
       "output_type": "stream",
       "stream": "stdout",
       "text": [
        "[1, 2, 4]\n",
        "repeattrips 56 "
       ]
      },
      {
       "output_type": "stream",
       "stream": "stdout",
       "text": [
        "[0, 1, 2]\n",
        "repeater 2 "
       ]
      },
      {
       "output_type": "stream",
       "stream": "stdout",
       "text": [
        "[0, 1]\n",
        "offerdate 56 ['2013-03-03', '2013-04-19', '2013-04-24']\n",
        "category 13 "
       ]
      },
      {
       "output_type": "stream",
       "stream": "stdout",
       "text": [
        "[3504, 3203, 2119]\n",
        "company 11 "
       ]
      },
      {
       "output_type": "stream",
       "stream": "stdout",
       "text": [
        "[106414464, 104460040, 107127979]\n",
        "offervalue 6 [0.75, 1.5, 2.0]\n",
        "brand "
       ]
      },
      {
       "output_type": "stream",
       "stream": "stdout",
       "text": [
        "12 [13474, 64486, 3718]\n"
       ]
      },
      {
       "metadata": {},
       "output_type": "pyout",
       "prompt_number": 37,
       "text": [
        "'\\n# convert to percentile\\nfor column_name in column_names[10:]:\\n   #print list(set(data[column_name]))[:4] \\n   #print data[column_name].min(),data[column_name].max(),data[column_name].mean()#,data[column_name].median(), data[column_name].std() \\n   data[column_name]= pd.qcut(data[column_name], 4)\\n   print set(data[column_name])\\n'"
       ]
      }
     ],
     "prompt_number": 37
    },
    {
     "cell_type": "raw",
     "metadata": {},
     "source": [
      " Note: chain, offer, market, category, company, brand are categories.\n",
      "repeattrips, offervalue, purchasequantity, productsize_q and purchaseamount_q are numerical\n",
      "_q= per purchasequantity"
     ]
    },
    {
     "cell_type": "code",
     "collapsed": false,
     "input": [
      "date_to_split='2013-04-01'\n",
      "train_data=data[data.offerdate< date_to_split]\n",
      "cv_data=data[data.offerdate> date_to_split]\n",
      "train_response=train_data['repeater']\n",
      "cv_response=cv_data['repeater']\n",
      "del train_data['offerdate']\n",
      "del train_data['repeater']\n",
      "del cv_data['offerdate']\n",
      "del cv_data['repeater']\n",
      "print train_data.shape,train_data[:1],cv_data.shape, cv_data[:1]"
     ],
     "language": "python",
     "metadata": {},
     "outputs": [
      {
       "output_type": "stream",
       "stream": "stdout",
       "text": [
        "(66292, 11)        chain    offer  market  repeattrips  category    company  offervalue  \\\n",
        "15028    205  1197502      34           16      3203  106414464        0.75   \n",
        "\n",
        "       brand  purchasequantity  productsize_q  purchaseamount_q  \n",
        "15028  13474                 6       5.333333             2.425  \n",
        "\n",
        "[1 rows x 11 columns] (87594, 11)    chain    offer  market  repeattrips  category    company  offervalue  \\\n",
        "0    205  1208251      34            5      2202  104460040           2   \n",
        "\n",
        "   brand  purchasequantity  productsize_q  purchaseamount_q  \n",
        "0   3718                 0              0                 0  \n",
        "\n",
        "[1 rows x 11 columns]\n"
       ]
      }
     ],
     "prompt_number": 59
    },
    {
     "cell_type": "code",
     "collapsed": false,
     "input": [
      "from sklearn import preprocessing\n",
      "from scipy.sparse import csr_matrix\n",
      "\n",
      "enc = preprocessing.OneHotEncoder(categorical_features=[0,1,2,4,5,7])\n",
      "enc.fit(np.vstack((train_data,cv_data)))\n",
      "train_data_1hot=enc.transform(train_data).toarray()\n",
      "cv_data_1hot=enc.transform(cv_data).toarray()\n",
      "\n",
      "min_max_scaler = preprocessing.MinMaxScaler()\n",
      "min_max_scaler.fit(train_data_1hot)\n",
      "\n",
      "train_data_1hot_scaled =min_max_scaler.transform(train_data_1hot)\n",
      "cv_data_1hot_scaled= min_max_scaler.transform(cv_data_1hot)\n",
      "\n"
     ],
     "language": "python",
     "metadata": {},
     "outputs": [],
     "prompt_number": 64
    },
    {
     "cell_type": "code",
     "collapsed": false,
     "input": [
      "print train_data_1hot_scaled.shape,cv_data_1hot_scaled.shape"
     ],
     "language": "python",
     "metadata": {},
     "outputs": [
      {
       "output_type": "stream",
       "stream": "stdout",
       "text": [
        "(66292, 229) (87594, 229)\n"
       ]
      }
     ],
     "prompt_number": 66
    },
    {
     "cell_type": "heading",
     "level": 4,
     "metadata": {},
     "source": [
      "this code shows the difference between using dict and using listto parse and find something on a file"
     ]
    },
    {
     "cell_type": "code",
     "collapsed": false,
     "input": [
      "offers_cat = {}\n",
      "offers_catl=[]\n",
      "for e, line in enumerate( open('data/offers.csv') ):\n",
      "    offers_cat[ line.split(\",\")[1] ] = 1\n",
      "    offers_catl.append(line.split(\",\")[1])\n",
      "print offers_cat,offers_catl  \n",
      "ct=0\n",
      "ti=time.time()\n",
      "for e, line in enumerate( open('data/transactions.csv') ):\n",
      "    if line.split(\",\")[3] in offers_cat:\n",
      "        ct+=1\n",
      "        if ct>1000000: break\n",
      "print time.time()-ti , ct\n",
      "ct=0\n",
      "ti=time.time()\n",
      "for e, line in enumerate( open('data/transactions.csv') ):\n",
      "    if line.split(\",\")[3] in offers_catl:\n",
      "        ct+=1\n",
      "        if ct>1000000: break\n",
      "print time.time()-ti , ct"
     ],
     "language": "python",
     "metadata": {},
     "outputs": [
      {
       "output_type": "stream",
       "stream": "stdout",
       "text": [
        "{'category': 1, '3509': 1, '2202': 1, '1703': 1, '3203': 1, '5824': 1, '2119': 1, '1726': 1, '3504': 1, '706': 1, '9115': 1, '4401': 1, '799': 1, '9909': 1, '5616': 1, '5619': 1, '7205': 1, '6202': 1, '4517': 1, '5558': 1, '5122': 1} ['category', '9115', '9909', '3203', '5558', '5558', '5558', '5558', '5558', '4401', '4401', '1703', '1703', '1726', '1726', '3504', '3509', '9909', '5122', '5616', '5619', '5619', '2202', '2202', '2119', '6202', '6202', '5824', '799', '799', '4517', '4517', '7205', '7205', '7205', '7205', '7205', '706']\n",
        "17.3233420849"
       ]
      },
      {
       "output_type": "stream",
       "stream": "stdout",
       "text": [
        " 1000001\n",
        "26.0960030556"
       ]
      },
      {
       "output_type": "stream",
       "stream": "stdout",
       "text": [
        " 1000001\n"
       ]
      }
     ],
     "prompt_number": 36
    },
    {
     "cell_type": "heading",
     "level": 4,
     "metadata": {},
     "source": [
      "some random prints, may ignore"
     ]
    },
    {
     "cell_type": "code",
     "collapsed": false,
     "input": [
      "print len(productsize)"
     ],
     "language": "python",
     "metadata": {},
     "outputs": [
      {
       "output_type": "stream",
       "stream": "stdout",
       "text": [
        "6097178\n"
       ]
      }
     ],
     "prompt_number": 12
    },
    {
     "cell_type": "code",
     "collapsed": false,
     "input": [
      "delta=0.1 # percentile tick\n",
      "data1=data.ix[:,11:]\n",
      "for column_name in column_names[11:]:\n",
      "  i=0.0  \n",
      "  while i<0.99:\n",
      "     if i<=1.0-delta:  \n",
      "         condition=(data[column_name] >= data[column_name].quantile(i))\\\n",
      "          & (data[column_name] < data[column_name].quantile(i+delta))\n",
      "         data1[column_name][condition]=i\n",
      "         i+=delta  \n",
      "     else: \n",
      "         condition=(data1[column_name] >= data1[column_name].quantile(i))\\\n",
      "         & (data1[column_name] <= data1[column_name].quantile(i+delta))\n",
      "         data[column_name][condition]=i\n",
      "         i+=delta\n",
      "for column_name in column_names[11:]:        \n",
      "   print len(set(data[column_name]))        \n",
      "#for column_name in column_names[11:]:\n",
      "#   print data[column_name].min(),data[column_name].max(),data[column_name].mean()\\\n",
      "#,data[column_name].median(), data[column_name].std()         "
     ],
     "language": "python",
     "metadata": {},
     "outputs": [
      {
       "output_type": "stream",
       "stream": "stdout",
       "text": [
        "365\n",
        "28967\n",
        "34081"
       ]
      },
      {
       "output_type": "stream",
       "stream": "stdout",
       "text": [
        "\n"
       ]
      }
     ],
     "prompt_number": 207
    },
    {
     "cell_type": "code",
     "collapsed": false,
     "input": [
      "import pandas as pd\n",
      "data=pd.read_csv('data/reduced.csv')\n",
      "print data[:1]\n",
      "%matplotlib inline\n",
      "import matplotlib.pyplot as plt\n",
      "data.purchaseamount.hist(bins=100)"
     ],
     "language": "python",
     "metadata": {},
     "outputs": [
      {
       "output_type": "stream",
       "stream": "stdout",
       "text": [
        "      id  chain  dept  category    company  brand        date  productsize  \\\n",
        "0  86246    205    99      9909  104538848  15343  2012-03-02           16   \n",
        "\n",
        "  productmeasure  purchasequantity  purchaseamount  \n",
        "0             OZ                 1            2.49  \n",
        "\n",
        "[1 rows x 11 columns]\n"
       ]
      },
      {
       "metadata": {},
       "output_type": "pyout",
       "prompt_number": 22,
       "text": [
        "<matplotlib.axes.AxesSubplot at 0x20ac474d0>"
       ]
      },
      {
       "metadata": {},
       "output_type": "display_data",
       "png": "[encoded data removed]",
       "text": [
        "<matplotlib.figure.Figure at 0x20ac44b10>"
       ]
      }
     ],
     "prompt_number": 22
    },
    {
     "cell_type": "code",
     "collapsed": false,
     "input": [
      "print set(data['productmeasure'])"
     ],
     "language": "python",
     "metadata": {},
     "outputs": [
      {
       "output_type": "stream",
       "stream": "stdout",
       "text": [
        "set(['LB', 'YD', 'LT', 'OZ', 'RL', 'CT'])\n"
       ]
      }
     ],
     "prompt_number": 8
    },
    {
     "cell_type": "code",
     "collapsed": false,
     "input": [
      "print trans_aggr.id[0]"
     ],
     "language": "python",
     "metadata": {},
     "outputs": [
      {
       "output_type": "stream",
       "stream": "stdout",
       "text": [
        "4618364952\n"
       ]
      }
     ],
     "prompt_number": 7
    },
    {
     "cell_type": "code",
     "collapsed": false,
     "input": [
      "print hist_offers_transaggr.shape, joined_data.shape"
     ],
     "language": "python",
     "metadata": {},
     "outputs": [
      {
       "output_type": "stream",
       "stream": "stdout",
       "text": [
        "(160057, 15) (160057, 12)\n"
       ]
      }
     ],
     "prompt_number": 20
    },
    {
     "cell_type": "code",
     "collapsed": false,
     "input": [
      "ct=0\n",
      "for x,y in zip(trans_aggr.id, trans_aggr.category):\n",
      "    for x1,y1 in zip(joined_data.id,joined_data.category):\n",
      "        if x==x1 and y==y1:\n",
      "          print ct\n",
      "          ct+=1  \n",
      "          if ct >10: break"
     ],
     "language": "python",
     "metadata": {},
     "outputs": []
    }
   ],
   "metadata": {}
  }
 ]
}